{
 "cells": [
  {
   "cell_type": "markdown",
   "id": "b89f6bd5",
   "metadata": {},
   "source": [
    "# Test"
   ]
  },
  {
   "cell_type": "code",
   "execution_count": 1,
   "id": "14aadb24",
   "metadata": {},
   "outputs": [
    {
     "ename": "NameError",
     "evalue": "name 'input_shape' is not defined",
     "output_type": "error",
     "traceback": [
      "\u001b[1;31m---------------------------------------------------------------------------\u001b[0m",
      "\u001b[1;31mNameError\u001b[0m                                 Traceback (most recent call last)",
      "\u001b[1;32m~\\AppData\\Local\\Temp\\ipykernel_25588\\2657038470.py\u001b[0m in \u001b[0;36m<module>\u001b[1;34m\u001b[0m\n\u001b[0;32m     10\u001b[0m test_generator = test_datagen.flow_from_directory(\n\u001b[0;32m     11\u001b[0m     \u001b[1;34m'C:/Users/kang mingu/Desktop/dataset/0 FaceImages/test'\u001b[0m\u001b[1;33m,\u001b[0m  \u001b[1;31m# 테스트 이미지 폴더 경로\u001b[0m\u001b[1;33m\u001b[0m\u001b[1;33m\u001b[0m\u001b[0m\n\u001b[1;32m---> 12\u001b[1;33m     \u001b[0mtarget_size\u001b[0m\u001b[1;33m=\u001b[0m\u001b[0minput_shape\u001b[0m\u001b[1;33m[\u001b[0m\u001b[1;33m:\u001b[0m\u001b[1;36m2\u001b[0m\u001b[1;33m]\u001b[0m\u001b[1;33m,\u001b[0m   \u001b[1;31m# 이미지 크기\u001b[0m\u001b[1;33m\u001b[0m\u001b[1;33m\u001b[0m\u001b[0m\n\u001b[0m\u001b[0;32m     13\u001b[0m     \u001b[0mbatch_size\u001b[0m\u001b[1;33m=\u001b[0m\u001b[0mbatch_size\u001b[0m\u001b[1;33m,\u001b[0m\u001b[1;33m\u001b[0m\u001b[1;33m\u001b[0m\u001b[0m\n\u001b[0;32m     14\u001b[0m     \u001b[0mclass_mode\u001b[0m\u001b[1;33m=\u001b[0m\u001b[1;34m'binary'\u001b[0m\u001b[1;33m,\u001b[0m           \u001b[1;31m# 이진 분류인 경우 'binary', 다중 분류인 경우 'categorical'\u001b[0m\u001b[1;33m\u001b[0m\u001b[1;33m\u001b[0m\u001b[0m\n",
      "\u001b[1;31mNameError\u001b[0m: name 'input_shape' is not defined"
     ]
    }
   ],
   "source": [
    "from tensorflow.keras.models import load_model\n",
    "from tensorflow.keras.preprocessing.image import ImageDataGenerator\n",
    "\n",
    "# 저장된 모델 로드\n",
    "loaded_model = load_model('C:/Users/kang mingu/Desktop/dataset/0 FaceImages/my_model3.h5')\n",
    "\n",
    "# 테스트 데이터에 대한 데이터 제너레이터 생성\n",
    "test_datagen = ImageDataGenerator(rescale=1/255)\n",
    "\n",
    "test_generator = test_datagen.flow_from_directory(\n",
    "    'C:/Users/kang mingu/Desktop/dataset/0 FaceImages/test',  # 테스트 이미지 폴더 경로\n",
    "    target_size=input_shape[:2],   # 이미지 크기\n",
    "    batch_size=batch_size,\n",
    "    class_mode='binary',           # 이진 분류인 경우 'binary', 다중 분류인 경우 'categorical'\n",
    "    shuffle=False                  # 이미지 순서 유지\n",
    ")\n",
    "\n",
    "# 모델 평가\n",
    "test_loss, test_accuracy = loaded_model.evaluate(test_generator)\n",
    "\n",
    "print(f\"Test Loss: {test_loss}, Test Accuracy: {test_accuracy}\")\n"
   ]
  },
  {
   "cell_type": "code",
   "execution_count": 3,
   "id": "5123bd04",
   "metadata": {},
   "outputs": [
    {
     "name": "stdout",
     "output_type": "stream",
     "text": [
      "Found 100 images belonging to 2 classes.\n",
      "4/4 [==============================] - 1s 120ms/step - loss: 2.3114 - accuracy: 0.5000\n",
      "Test Loss: 2.3114309310913086, Test Accuracy: 0.5\n"
     ]
    }
   ],
   "source": [
    "from tensorflow.keras.models import load_model\n",
    "from tensorflow.keras.preprocessing.image import ImageDataGenerator\n",
    "\n",
    "# 저장된 모델 로드\n",
    "loaded_model = load_model('C:/Users/kang mingu/Desktop/dataset/0 FaceImages/my_model3.h5')\n",
    "\n",
    "# 이미지 크기 및 배치 크기 설정\n",
    "image_size = (145, 145)\n",
    "batch_size = 32\n",
    "\n",
    "# 테스트 데이터에 대한 데이터 제너레이터 생성\n",
    "test_datagen = ImageDataGenerator(rescale=1/255)\n",
    "\n",
    "test_generator = test_datagen.flow_from_directory(\n",
    "    'C:/Users/kang mingu/Desktop/dataset/0 FaceImages/test',  # 테스트 이미지 폴더 경로\n",
    "    target_size=image_size,\n",
    "    batch_size=batch_size,\n",
    "    class_mode='categorical',  # 이진 분류인 경우 'binary', 다중 분류인 경우 'categorical'\n",
    "    shuffle=False  # 이미지 순서 유지\n",
    ")\n",
    "\n",
    "# 모델 평가\n",
    "test_loss, test_accuracy = loaded_model.evaluate(test_generator)\n",
    "\n",
    "print(f\"Test Loss: {test_loss}, Test Accuracy: {test_accuracy}\")\n"
   ]
  },
  {
   "cell_type": "code",
   "execution_count": null,
   "id": "eb3bec12",
   "metadata": {},
   "outputs": [],
   "source": []
  }
 ],
 "metadata": {
  "kernelspec": {
   "display_name": "My Virtual Environment",
   "language": "python",
   "name": "myenv"
  },
  "language_info": {
   "codemirror_mode": {
    "name": "ipython",
    "version": 3
   },
   "file_extension": ".py",
   "mimetype": "text/x-python",
   "name": "python",
   "nbconvert_exporter": "python",
   "pygments_lexer": "ipython3",
   "version": "3.7.12"
  }
 },
 "nbformat": 4,
 "nbformat_minor": 5
}
